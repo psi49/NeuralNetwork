{
 "cells": [
  {
   "cell_type": "code",
   "execution_count": 1,
   "metadata": {},
   "outputs": [],
   "source": [
    "import numpy as np\n",
    "import pandas as pd\n",
    "import seaborn as sns\n",
    "import matplotlib.pyplot as plt\n",
    "%matplotlib inline\n",
    "import warnings \n",
    "warnings.filterwarnings('ignore')\n",
    " \n",
    "# Features of the whole slide images extracted using rotation- invariant local Binary pattern (LBP), Entropy\n",
    "her2=pd.read_csv('FeaturesCombinednewscore.csv')"
   ]
  },
  {
   "cell_type": "code",
   "execution_count": 2,
   "metadata": {},
   "outputs": [
    {
     "name": "stdout",
     "output_type": "stream",
     "text": [
      "Number of rows and Columns in the feature space: \n",
      " (4019, 41)\n",
      "Index(['FILENAME', 'CC0', 'CC1', 'CC2', 'CC3', 'CC4', 'CC5', 'CC6', 'CC7',\n",
      "       'CC8', 'CC9', 'UL0_0', 'UL0_1', 'UL0_2', 'UL0_3', 'UL0_4', 'UL1_0',\n",
      "       'UL1_1', 'UL1_2', 'UL1_3', 'UL1_4', 'UL2_0', 'UL2_1', 'UL2_2', 'UL2_3',\n",
      "       'UL2_4', 'UL3_0', 'UL3_1', 'UL3_2', 'UL3_3', 'UL3_4', 'UL4_0', 'UL4_1',\n",
      "       'UL4_2', 'UL4_3', 'UL4_4', 'CONN', 'ENER', 'ENTR', 'SCORE',\n",
      "       'SCORE_New'],\n",
      "      dtype='object')\n",
      "==============================================\n",
      "Show top ten feature sets: \n",
      "         FILENAME        CC0       CC1       CC2  CC3  CC4  CC5  CC6  CC7  CC8  \\\n",
      "0  c01_T0001.png  14.273789  1.898998  0.010434  0.0  0.0  0.0  0.0  0.0  0.0   \n",
      "1  c01_T0002.png  16.392117  1.950480  0.010106  0.0  0.0  0.0  0.0  0.0  0.0   \n",
      "2  c01_T0003.png  16.919462  1.495407  0.032044  0.0  0.0  0.0  0.0  0.0  0.0   \n",
      "3  c01_T0004.png  17.721520  1.868110  0.030625  0.0  0.0  0.0  0.0  0.0  0.0   \n",
      "4  c01_T0005.png  15.957848  1.750094  0.028227  0.0  0.0  0.0  0.0  0.0  0.0   \n",
      "5  c01_T0006.png  13.900909  1.554358  0.026495  0.0  0.0  0.0  0.0  0.0  0.0   \n",
      "6  c01_T0007.png  13.217963  1.974732  0.010617  0.0  0.0  0.0  0.0  0.0  0.0   \n",
      "7  c01_T0008.png  14.961369  2.035916  0.010441  0.0  0.0  0.0  0.0  0.0  0.0   \n",
      "8  c01_T0009.png  14.787892  1.551481  0.032549  0.0  0.0  0.0  0.0  0.0  0.0   \n",
      "9  c01_T0010.png  15.374480  1.885071  0.030404  0.0  0.0  0.0  0.0  0.0  0.0   \n",
      "\n",
      "   ...     UL4_0  UL4_1  UL4_2  UL4_3  UL4_4      CONN       ENER      ENTR  \\\n",
      "0  ...  0.046921    0.0    0.0    0.0    0.0  2.639816  11.434577  3.805652   \n",
      "1  ...  0.056458    0.0    0.0    0.0    0.0  2.556847  11.532461  3.793491   \n",
      "2  ...  0.050735    0.0    0.0    0.0    0.0  2.478103  11.212985  3.823998   \n",
      "3  ...  0.049591    0.0    0.0    0.0    0.0  2.368314  10.663307  3.878820   \n",
      "4  ...  0.044632    0.0    0.0    0.0    0.0  1.298457  10.811545  3.866687   \n",
      "5  ...  0.041199    0.0    0.0    0.0    0.0  1.218758  10.986738  3.857072   \n",
      "6  ...  0.043106    0.0    0.0    0.0    0.0  2.686060  12.112063  3.740771   \n",
      "7  ...  0.050735    0.0    0.0    0.0    0.0  2.641470  12.442201  3.706557   \n",
      "8  ...  0.043869    0.0    0.0    0.0    0.0  2.517088  12.033720  3.745989   \n",
      "9  ...  0.042725    0.0    0.0    0.0    0.0  2.351272  11.469764  3.808102   \n",
      "\n",
      "   SCORE  SCORE_New  \n",
      "0      0          0  \n",
      "1      0          0  \n",
      "2      0          0  \n",
      "3      0          0  \n",
      "4      0          0  \n",
      "5      0          0  \n",
      "6      0          0  \n",
      "7      0          0  \n",
      "8      0          0  \n",
      "9      0          0  \n",
      "\n",
      "[10 rows x 41 columns]\n",
      "<class 'pandas.core.frame.DataFrame'>\n",
      "RangeIndex: 4019 entries, 0 to 4018\n",
      "Data columns (total 41 columns):\n",
      "FILENAME     4019 non-null object\n",
      "CC0          4019 non-null float64\n",
      "CC1          4019 non-null float64\n",
      "CC2          4019 non-null float64\n",
      "CC3          4019 non-null float64\n",
      "CC4          4019 non-null float64\n",
      "CC5          4019 non-null float64\n",
      "CC6          4019 non-null float64\n",
      "CC7          4019 non-null float64\n",
      "CC8          4019 non-null float64\n",
      "CC9          4019 non-null float64\n",
      "UL0_0        4019 non-null float64\n",
      "UL0_1        4019 non-null float64\n",
      "UL0_2        4019 non-null float64\n",
      "UL0_3        4019 non-null float64\n",
      "UL0_4        4019 non-null float64\n",
      "UL1_0        4019 non-null float64\n",
      "UL1_1        4019 non-null float64\n",
      "UL1_2        4019 non-null float64\n",
      "UL1_3        4019 non-null float64\n",
      "UL1_4        4019 non-null float64\n",
      "UL2_0        4019 non-null float64\n",
      "UL2_1        4019 non-null float64\n",
      "UL2_2        4019 non-null float64\n",
      "UL2_3        4019 non-null float64\n",
      "UL2_4        4019 non-null float64\n",
      "UL3_0        4019 non-null float64\n",
      "UL3_1        4019 non-null float64\n",
      "UL3_2        4019 non-null float64\n",
      "UL3_3        4019 non-null float64\n",
      "UL3_4        4019 non-null float64\n",
      "UL4_0        4019 non-null float64\n",
      "UL4_1        4019 non-null float64\n",
      "UL4_2        4019 non-null float64\n",
      "UL4_3        4019 non-null float64\n",
      "UL4_4        4019 non-null float64\n",
      "CONN         4019 non-null float64\n",
      "ENER         4019 non-null float64\n",
      "ENTR         4019 non-null float64\n",
      "SCORE        4019 non-null int64\n",
      "SCORE_New    4019 non-null int64\n",
      "dtypes: float64(38), int64(2), object(1)\n",
      "memory usage: 1.3+ MB\n",
      "None\n",
      "******************************************\n",
      "Analysis null values in the dataset: \n",
      " FILENAME     0\n",
      "CC0          0\n",
      "CC1          0\n",
      "CC2          0\n",
      "CC3          0\n",
      "CC4          0\n",
      "CC5          0\n",
      "CC6          0\n",
      "CC7          0\n",
      "CC8          0\n",
      "CC9          0\n",
      "UL0_0        0\n",
      "UL0_1        0\n",
      "UL0_2        0\n",
      "UL0_3        0\n",
      "UL0_4        0\n",
      "UL1_0        0\n",
      "UL1_1        0\n",
      "UL1_2        0\n",
      "UL1_3        0\n",
      "UL1_4        0\n",
      "UL2_0        0\n",
      "UL2_1        0\n",
      "UL2_2        0\n",
      "UL2_3        0\n",
      "UL2_4        0\n",
      "UL3_0        0\n",
      "UL3_1        0\n",
      "UL3_2        0\n",
      "UL3_3        0\n",
      "UL3_4        0\n",
      "UL4_0        0\n",
      "UL4_1        0\n",
      "UL4_2        0\n",
      "UL4_3        0\n",
      "UL4_4        0\n",
      "CONN         0\n",
      "ENER         0\n",
      "ENTR         0\n",
      "SCORE        0\n",
      "SCORE_New    0\n",
      "dtype: int64\n"
     ]
    }
   ],
   "source": [
    "print(\"Number of rows and Columns in the feature space: \\n\", her2.shape)\n",
    "print(her2.columns)\n",
    "print(\"==============================================\")\n",
    "print(\"Show top ten feature sets: \\n\", her2.head(10))\n",
    "print(her2.info())\n",
    "print(\"******************************************\")\n",
    "print(\"Analysis null values in the dataset: \\n\", her2.isnull().sum())"
   ]
  },
  {
   "cell_type": "code",
   "execution_count": 3,
   "metadata": {},
   "outputs": [
    {
     "data": {
      "text/plain": [
       "Text(0.5, 1.0, 'Target Class Distribution')"
      ]
     },
     "execution_count": 3,
     "metadata": {},
     "output_type": "execute_result"
    },
    {
     "data": {
      "image/png": "[encoded data removed]",
      "text/plain": [
       "<Figure size 864x504 with 1 Axes>"
      ]
     },
     "metadata": {},
     "output_type": "display_data"
    }
   ],
   "source": [
    "# Visual Representation of the dependent (Target) variable distribution in the dataset\n",
    "sns.set(rc={'figure.figsize':(12,7)})\n",
    "score_her2=her2['SCORE_New']\n",
    "df1_count=sns.countplot(x=score_her2, data=her2)\n",
    "plt.title(\"Target Class Distribution\")"
   ]
  },
  {
   "cell_type": "code",
   "execution_count": 4,
   "metadata": {},
   "outputs": [
    {
     "name": "stdout",
     "output_type": "stream",
     "text": [
      "0    1198\n",
      "3    1105\n",
      "2    1012\n",
      "1     704\n",
      "Name: SCORE_New, dtype: int64\n"
     ]
    }
   ],
   "source": [
    "# Numerial representation of number of counts in each score type \n",
    "print(her2['SCORE_New']. value_counts())"
   ]
  },
  {
   "cell_type": "code",
   "execution_count": 5,
   "metadata": {},
   "outputs": [
    {
     "name": "stdout",
     "output_type": "stream",
     "text": [
      "(4019, 38)\n",
      "         CC0       CC1       CC2  CC3  CC4  CC5  CC6  CC7  CC8  CC9  ...  \\\n",
      "0  14.273789  1.898998  0.010434  0.0  0.0  0.0  0.0  0.0  0.0  0.0  ...   \n",
      "1  16.392117  1.950480  0.010106  0.0  0.0  0.0  0.0  0.0  0.0  0.0  ...   \n",
      "2  16.919462  1.495407  0.032044  0.0  0.0  0.0  0.0  0.0  0.0  0.0  ...   \n",
      "3  17.721520  1.868110  0.030625  0.0  0.0  0.0  0.0  0.0  0.0  0.0  ...   \n",
      "4  15.957848  1.750094  0.028227  0.0  0.0  0.0  0.0  0.0  0.0  0.0  ...   \n",
      "\n",
      "   UL3_3  UL3_4     UL4_0  UL4_1  UL4_2  UL4_3  UL4_4      CONN       ENER  \\\n",
      "0    0.0    0.0  0.046921    0.0    0.0    0.0    0.0  2.639816  11.434577   \n",
      "1    0.0    0.0  0.056458    0.0    0.0    0.0    0.0  2.556847  11.532461   \n",
      "2    0.0    0.0  0.050735    0.0    0.0    0.0    0.0  2.478103  11.212985   \n",
      "3    0.0    0.0  0.049591    0.0    0.0    0.0    0.0  2.368314  10.663307   \n",
      "4    0.0    0.0  0.044632    0.0    0.0    0.0    0.0  1.298457  10.811545   \n",
      "\n",
      "       ENTR  \n",
      "0  3.805652  \n",
      "1  3.793491  \n",
      "2  3.823998  \n",
      "3  3.878820  \n",
      "4  3.866687  \n",
      "\n",
      "[5 rows x 38 columns]\n",
      "=======================================================================================================================\n",
      "(4019,)\n",
      "0    0\n",
      "1    0\n",
      "2    0\n",
      "3    0\n",
      "4    0\n",
      "Name: SCORE_New, dtype: int64\n",
      "=======================================================================================================================\n",
      "(4019, 1)\n"
     ]
    }
   ],
   "source": [
    "# Separate features from the target class/ score \n",
    "F_her2=her2.drop(['FILENAME', 'SCORE' , 'SCORE_New'],  axis=1)\n",
    "S_her2=her2['SCORE_New']\n",
    "print(F_her2.shape)\n",
    "print(F_her2.head())\n",
    "\n",
    "print(\"=======================================================================================================================\")\n",
    "\n",
    "print(S_her2.shape)\n",
    "print(S_her2.head())\n",
    "\n",
    "# Reshape the target variable \n",
    "S_her2=her2['SCORE_New'].values.reshape(-1,1)\n",
    "print(\"=======================================================================================================================\")\n",
    "print(S_her2.shape)"
   ]
  },
  {
   "cell_type": "code",
   "execution_count": 6,
   "metadata": {},
   "outputs": [
    {
     "name": "stdout",
     "output_type": "stream",
     "text": [
      "(2893, 38)\n",
      "(1126, 38)\n"
     ]
    }
   ],
   "source": [
    "from sklearn.model_selection import train_test_split\n",
    "x_train, x_test, y_train, y_test = train_test_split(F_her2, S_her2, test_size=0.28, random_state=42)\n",
    "print(x_train.shape); print(x_test.shape)"
   ]
  },
  {
   "cell_type": "markdown",
   "metadata": {},
   "source": [
    "Create neural network model: "
   ]
  },
  {
   "cell_type": "code",
   "execution_count": 18,
   "metadata": {},
   "outputs": [],
   "source": [
    "import os\n",
    "from sklearn.model_selection import train_test_split\n",
    "from sklearn.model_selection import GridSearchCV\n",
    "from keras.wrappers.scikit_learn import KerasClassifier\n",
    "from keras.models import Sequential\n",
    "from keras.layers import Dense, Activation, Dropout\n",
    "\n",
    "from numpy.random import seed\n",
    "from tensorflow import set_random_seed\n",
    "import tensorflow as tf"
   ]
  },
  {
   "cell_type": "code",
   "execution_count": 21,
   "metadata": {},
   "outputs": [],
   "source": [
    "# Define a function to create a model\n",
    "def create_model(lyrs=[8], act='relu', opt='Adam', dr=0.0):\n",
    "    \n",
    "    # fix random seed for conformity\n",
    "    seed(42)\n",
    "    set_random_seed(42)\n",
    "    \n",
    "    model = Sequential()\n",
    "    \n",
    "    # create first hidden layer\n",
    "    model.add(Dense(lyrs[0], input_dim=x_train.shape[1], activation=act))\n",
    "    \n",
    "    # create additional hidden layers\n",
    "    for i in range(1,len(lyrs)):\n",
    "        model.add(Dense(lyrs[i], activation=act))\n",
    "\n",
    "    \n",
    "    # add dropout, default is none for this case \n",
    "    model.add(Dropout(dr))\n",
    "    \n",
    "    # create output layer with sigmoid activation function \n",
    "    model.add(Dense(4, activation='sigmoid')) \n",
    "    \n",
    "    model.compile(loss='sparse_categorical_crossentropy', optimizer=opt, metrics=['accuracy'])\n",
    "    \n",
    "    return model"
   ]
  },
  {
   "cell_type": "code",
   "execution_count": 22,
   "metadata": {},
   "outputs": [
    {
     "name": "stdout",
     "output_type": "stream",
     "text": [
      "Model: \"sequential_2\"\n",
      "_________________________________________________________________\n",
      "Layer (type)                 Output Shape              Param #   \n",
      "=================================================================\n",
      "dense_3 (Dense)              (None, 8)                 312       \n",
      "_________________________________________________________________\n",
      "dropout_2 (Dropout)          (None, 8)                 0         \n",
      "_________________________________________________________________\n",
      "dense_4 (Dense)              (None, 4)                 36        \n",
      "=================================================================\n",
      "Total params: 348\n",
      "Trainable params: 348\n",
      "Non-trainable params: 0\n",
      "_________________________________________________________________\n",
      "None\n"
     ]
    }
   ],
   "source": [
    "model = create_model()\n",
    "print(model.summary())"
   ]
  },
  {
   "cell_type": "code",
   "execution_count": 23,
   "metadata": {},
   "outputs": [
    {
     "name": "stdout",
     "output_type": "stream",
     "text": [
      "WARNING:tensorflow:From C:\\Users\\Prerna\\Anaconda3\\lib\\site-packages\\tensorflow\\python\\ops\\math_grad.py:1250: add_dispatch_support.<locals>.wrapper (from tensorflow.python.ops.array_ops) is deprecated and will be removed in a future version.\n",
      "Instructions for updating:\n",
      "Use tf.where in 2.0, which has the same broadcast rule as np.where\n",
      "WARNING:tensorflow:From C:\\Users\\Prerna\\Anaconda3\\lib\\site-packages\\keras\\backend\\tensorflow_backend.py:1033: The name tf.assign_add is deprecated. Please use tf.compat.v1.assign_add instead.\n",
      "\n",
      "\n",
      "val_acc: 85.57%\n"
     ]
    }
   ],
   "source": [
    "# train model on full train set, with 80/20 CV split\n",
    "training = model.fit(x_train, y_train, epochs=100, batch_size=32, validation_split=0.2, verbose=0)\n",
    "val_acc = np.mean(training.history['val_acc'])\n",
    "print(\"\\n%s: %.2f%%\" % ('val_acc', val_acc*100))"
   ]
  },
  {
   "cell_type": "code",
   "execution_count": 24,
   "metadata": {},
   "outputs": [
    {
     "data": {
      "image/png": "[encoded data removed]",
      "text/plain": [
       "<Figure size 864x504 with 1 Axes>"
      ]
     },
     "metadata": {},
     "output_type": "display_data"
    }
   ],
   "source": [
    "# summarize history for accuracy\n",
    "plt.plot(training.history['acc'], color='gray')\n",
    "plt.plot(training.history['val_acc'], color='red')\n",
    "plt.title('model accuracy')\n",
    "plt.ylabel('accuracy')\n",
    "plt.xlabel('epoch')\n",
    "plt.legend(['train', 'validation'], loc='upper left')\n",
    "plt.show()"
   ]
  },
  {
   "cell_type": "markdown",
   "metadata": {},
   "source": [
    "1. Grid Search:  \n",
    "Let's use grid search to find out what the optimal values for batch_size and epochs."
   ]
  },
  {
   "cell_type": "code",
   "execution_count": 25,
   "metadata": {},
   "outputs": [
    {
     "name": "stdout",
     "output_type": "stream",
     "text": [
      "Fitting 3 folds for each of 16 candidates, totalling 48 fits\n",
      "[CV] batch_size=16, epochs=50 ........................................\n"
     ]
    },
    {
     "name": "stderr",
     "output_type": "stream",
     "text": [
      "[Parallel(n_jobs=1)]: Using backend SequentialBackend with 1 concurrent workers.\n"
     ]
    },
    {
     "name": "stdout",
     "output_type": "stream",
     "text": [
      "[CV] ......................... batch_size=16, epochs=50, total=  15.0s\n",
      "[CV] batch_size=16, epochs=50 ........................................\n"
     ]
    },
    {
     "name": "stderr",
     "output_type": "stream",
     "text": [
      "[Parallel(n_jobs=1)]: Done   1 out of   1 | elapsed:   14.9s remaining:    0.0s\n"
     ]
    },
    {
     "name": "stdout",
     "output_type": "stream",
     "text": [
      "[CV] ......................... batch_size=16, epochs=50, total=  14.0s\n",
      "[CV] batch_size=16, epochs=50 ........................................\n",
      "[CV] ......................... batch_size=16, epochs=50, total=  14.0s\n",
      "[CV] batch_size=16, epochs=100 .......................................\n",
      "[CV] ........................ batch_size=16, epochs=100, total=  25.8s\n",
      "[CV] batch_size=16, epochs=100 .......................................\n",
      "[CV] ........................ batch_size=16, epochs=100, total=  26.6s\n",
      "[CV] batch_size=16, epochs=100 .......................................\n",
      "[CV] ........................ batch_size=16, epochs=100, total=  28.7s\n",
      "[CV] batch_size=16, epochs=150 .......................................\n",
      "[CV] ........................ batch_size=16, epochs=150, total=  42.4s\n",
      "[CV] batch_size=16, epochs=150 .......................................\n",
      "[CV] ........................ batch_size=16, epochs=150, total=  42.2s\n",
      "[CV] batch_size=16, epochs=150 .......................................\n",
      "[CV] ........................ batch_size=16, epochs=150, total=  42.3s\n",
      "[CV] batch_size=16, epochs=200 .......................................\n",
      "[CV] ........................ batch_size=16, epochs=200, total= 1.2min\n",
      "[CV] batch_size=16, epochs=200 .......................................\n",
      "[CV] ........................ batch_size=16, epochs=200, total=  57.8s\n",
      "[CV] batch_size=16, epochs=200 .......................................\n",
      "[CV] ........................ batch_size=16, epochs=200, total=  57.9s\n",
      "[CV] batch_size=28, epochs=50 ........................................\n",
      "[CV] ......................... batch_size=28, epochs=50, total=  10.8s\n",
      "[CV] batch_size=28, epochs=50 ........................................\n",
      "[CV] ......................... batch_size=28, epochs=50, total=  11.1s\n",
      "[CV] batch_size=28, epochs=50 ........................................\n",
      "[CV] ......................... batch_size=28, epochs=50, total=  10.7s\n",
      "[CV] batch_size=28, epochs=100 .......................................\n",
      "[CV] ........................ batch_size=28, epochs=100, total=  19.3s\n",
      "[CV] batch_size=28, epochs=100 .......................................\n",
      "[CV] ........................ batch_size=28, epochs=100, total=  19.6s\n",
      "[CV] batch_size=28, epochs=100 .......................................\n",
      "[CV] ........................ batch_size=28, epochs=100, total=  19.7s\n",
      "[CV] batch_size=28, epochs=150 .......................................\n",
      "[CV] ........................ batch_size=28, epochs=150, total=  29.4s\n",
      "[CV] batch_size=28, epochs=150 .......................................\n",
      "[CV] ........................ batch_size=28, epochs=150, total=  29.2s\n",
      "[CV] batch_size=28, epochs=150 .......................................\n",
      "[CV] ........................ batch_size=28, epochs=150, total=  30.3s\n",
      "[CV] batch_size=28, epochs=200 .......................................\n",
      "[CV] ........................ batch_size=28, epochs=200, total=  39.0s\n",
      "[CV] batch_size=28, epochs=200 .......................................\n",
      "[CV] ........................ batch_size=28, epochs=200, total=  46.7s\n",
      "[CV] batch_size=28, epochs=200 .......................................\n",
      "[CV] ........................ batch_size=28, epochs=200, total=  54.0s\n",
      "[CV] batch_size=32, epochs=50 ........................................\n",
      "[CV] ......................... batch_size=32, epochs=50, total=  14.9s\n",
      "[CV] batch_size=32, epochs=50 ........................................\n",
      "[CV] ......................... batch_size=32, epochs=50, total=  16.1s\n",
      "[CV] batch_size=32, epochs=50 ........................................\n",
      "[CV] ......................... batch_size=32, epochs=50, total=  12.6s\n",
      "[CV] batch_size=32, epochs=100 .......................................\n",
      "[CV] ........................ batch_size=32, epochs=100, total=  22.0s\n",
      "[CV] batch_size=32, epochs=100 .......................................\n",
      "[CV] ........................ batch_size=32, epochs=100, total=  30.6s\n",
      "[CV] batch_size=32, epochs=100 .......................................\n",
      "[CV] ........................ batch_size=32, epochs=100, total=  28.0s\n",
      "[CV] batch_size=32, epochs=150 .......................................\n",
      "[CV] ........................ batch_size=32, epochs=150, total=  36.8s\n",
      "[CV] batch_size=32, epochs=150 .......................................\n",
      "[CV] ........................ batch_size=32, epochs=150, total=  36.0s\n",
      "[CV] batch_size=32, epochs=150 .......................................\n",
      "[CV] ........................ batch_size=32, epochs=150, total=  38.2s\n",
      "[CV] batch_size=32, epochs=200 .......................................\n",
      "[CV] ........................ batch_size=32, epochs=200, total=  43.8s\n",
      "[CV] batch_size=32, epochs=200 .......................................\n",
      "[CV] ........................ batch_size=32, epochs=200, total=  42.8s\n",
      "[CV] batch_size=32, epochs=200 .......................................\n",
      "[CV] ........................ batch_size=32, epochs=200, total=  42.3s\n",
      "[CV] batch_size=64, epochs=50 ........................................\n",
      "[CV] ......................... batch_size=64, epochs=50, total=   9.6s\n",
      "[CV] batch_size=64, epochs=50 ........................................\n",
      "[CV] ......................... batch_size=64, epochs=50, total=  12.2s\n",
      "[CV] batch_size=64, epochs=50 ........................................\n",
      "[CV] ......................... batch_size=64, epochs=50, total=   9.8s\n",
      "[CV] batch_size=64, epochs=100 .......................................\n",
      "[CV] ........................ batch_size=64, epochs=100, total=  16.5s\n",
      "[CV] batch_size=64, epochs=100 .......................................\n",
      "[CV] ........................ batch_size=64, epochs=100, total=  19.2s\n",
      "[CV] batch_size=64, epochs=100 .......................................\n",
      "[CV] ........................ batch_size=64, epochs=100, total=  18.4s\n",
      "[CV] batch_size=64, epochs=150 .......................................\n",
      "[CV] ........................ batch_size=64, epochs=150, total=  23.5s\n",
      "[CV] batch_size=64, epochs=150 .......................................\n",
      "[CV] ........................ batch_size=64, epochs=150, total=  22.9s\n",
      "[CV] batch_size=64, epochs=150 .......................................\n",
      "[CV] ........................ batch_size=64, epochs=150, total=  23.8s\n",
      "[CV] batch_size=64, epochs=200 .......................................\n",
      "[CV] ........................ batch_size=64, epochs=200, total=  30.6s\n",
      "[CV] batch_size=64, epochs=200 .......................................\n",
      "[CV] ........................ batch_size=64, epochs=200, total=  29.4s\n",
      "[CV] batch_size=64, epochs=200 .......................................\n",
      "[CV] ........................ batch_size=64, epochs=200, total=  30.7s\n"
     ]
    },
    {
     "name": "stderr",
     "output_type": "stream",
     "text": [
      "[Parallel(n_jobs=1)]: Done  48 out of  48 | elapsed: 22.9min finished\n"
     ]
    }
   ],
   "source": [
    "# create model for the classifier \n",
    "model = KerasClassifier(build_fn=create_model, verbose=0)\n",
    "\n",
    "# define the grid search parameters\n",
    "batch_size = [16, 28, 32, 64]\n",
    "epochs = [50, 100, 150, 200]\n",
    "param_grid = dict(batch_size=batch_size, epochs=epochs)\n",
    "\n",
    "# search the grid\n",
    "grid = GridSearchCV(estimator=model, \n",
    "                    param_grid=param_grid,\n",
    "                    cv=3,\n",
    "                    verbose=2)  \n",
    "\n",
    "grid_result = grid.fit(x_train, y_train)"
   ]
  },
  {
   "cell_type": "code",
   "execution_count": 26,
   "metadata": {},
   "outputs": [
    {
     "name": "stdout",
     "output_type": "stream",
     "text": [
      "Best: 0.915658 using {'batch_size': 28, 'epochs': 150}\n",
      "0.886277 (0.002473) with: {'batch_size': 16, 'epochs': 50}\n",
      "0.897684 (0.005508) with: {'batch_size': 16, 'epochs': 100}\n",
      "0.901486 (0.004497) with: {'batch_size': 16, 'epochs': 150}\n",
      "0.912893 (0.012044) with: {'batch_size': 16, 'epochs': 200}\n",
      "0.879710 (0.005561) with: {'batch_size': 28, 'epochs': 50}\n",
      "0.899412 (0.003926) with: {'batch_size': 28, 'epochs': 100}\n",
      "0.915658 (0.006588) with: {'batch_size': 28, 'epochs': 150}\n",
      "0.914967 (0.011101) with: {'batch_size': 28, 'epochs': 200}\n",
      "0.878327 (0.006018) with: {'batch_size': 32, 'epochs': 50}\n",
      "0.892499 (0.007340) with: {'batch_size': 32, 'epochs': 100}\n",
      "0.902869 (0.014062) with: {'batch_size': 32, 'epochs': 150}\n",
      "0.902178 (0.009856) with: {'batch_size': 32, 'epochs': 200}\n",
      "0.877290 (0.003961) with: {'batch_size': 64, 'epochs': 50}\n",
      "0.880055 (0.006152) with: {'batch_size': 64, 'epochs': 100}\n",
      "0.889388 (0.009845) with: {'batch_size': 64, 'epochs': 150}\n",
      "0.894919 (0.012383) with: {'batch_size': 64, 'epochs': 200}\n"
     ]
    }
   ],
   "source": [
    "# Consolidate the outcome\n",
    "print(\"Best: %f using %s\" % (grid_result.best_score_, grid_result.best_params_))\n",
    "means = grid_result.cv_results_['mean_test_score']\n",
    "stds = grid_result.cv_results_['std_test_score']\n",
    "params = grid_result.cv_results_['params']\n",
    "for mean, stdev, param in zip(means, stds, params):\n",
    "    print(\"%f (%f) with: %r\" % (mean, stdev, param))"
   ]
  },
  {
   "cell_type": "markdown",
   "metadata": {},
   "source": [
    "Lets figure out best optimizer for the dataset to reduce the losses and enhance the accuracy. "
   ]
  },
  {
   "cell_type": "code",
   "execution_count": 27,
   "metadata": {},
   "outputs": [
    {
     "name": "stdout",
     "output_type": "stream",
     "text": [
      "Fitting 3 folds for each of 6 candidates, totalling 18 fits\n",
      "[CV] opt=SGD .........................................................\n"
     ]
    },
    {
     "name": "stderr",
     "output_type": "stream",
     "text": [
      "[Parallel(n_jobs=1)]: Using backend SequentialBackend with 1 concurrent workers.\n"
     ]
    },
    {
     "name": "stdout",
     "output_type": "stream",
     "text": [
      "[CV] .......................................... opt=SGD, total=  38.8s\n",
      "[CV] opt=SGD .........................................................\n"
     ]
    },
    {
     "name": "stderr",
     "output_type": "stream",
     "text": [
      "[Parallel(n_jobs=1)]: Done   1 out of   1 | elapsed:   38.7s remaining:    0.0s\n"
     ]
    },
    {
     "name": "stdout",
     "output_type": "stream",
     "text": [
      "[CV] .......................................... opt=SGD, total=  40.6s\n",
      "[CV] opt=SGD .........................................................\n",
      "[CV] .......................................... opt=SGD, total=  43.1s\n",
      "[CV] opt=RMSprop .....................................................\n",
      "[CV] ...................................... opt=RMSprop, total=  40.2s\n",
      "[CV] opt=RMSprop .....................................................\n",
      "[CV] ...................................... opt=RMSprop, total=  40.4s\n",
      "[CV] opt=RMSprop .....................................................\n",
      "[CV] ...................................... opt=RMSprop, total=  44.8s\n",
      "[CV] opt=Adagrad .....................................................\n",
      "[CV] ...................................... opt=Adagrad, total=  45.0s\n",
      "[CV] opt=Adagrad .....................................................\n",
      "[CV] ...................................... opt=Adagrad, total= 1.1min\n",
      "[CV] opt=Adagrad .....................................................\n",
      "[CV] ...................................... opt=Adagrad, total=  45.7s\n",
      "[CV] opt=Adadelta ....................................................\n",
      "[CV] ..................................... opt=Adadelta, total=  43.8s\n",
      "[CV] opt=Adadelta ....................................................\n",
      "[CV] ..................................... opt=Adadelta, total=  46.2s\n",
      "[CV] opt=Adadelta ....................................................\n",
      "[CV] ..................................... opt=Adadelta, total=  49.3s\n",
      "[CV] opt=Adam ........................................................\n",
      "[CV] ......................................... opt=Adam, total=  50.1s\n",
      "[CV] opt=Adam ........................................................\n",
      "[CV] ......................................... opt=Adam, total=  50.8s\n",
      "[CV] opt=Adam ........................................................\n",
      "[CV] ......................................... opt=Adam, total=  47.6s\n",
      "[CV] opt=Nadam .......................................................\n",
      "[CV] ........................................ opt=Nadam, total=  48.2s\n",
      "[CV] opt=Nadam .......................................................\n",
      "[CV] ........................................ opt=Nadam, total=  48.8s\n",
      "[CV] opt=Nadam .......................................................\n",
      "[CV] ........................................ opt=Nadam, total=  50.1s\n"
     ]
    },
    {
     "name": "stderr",
     "output_type": "stream",
     "text": [
      "[Parallel(n_jobs=1)]: Done  18 out of  18 | elapsed: 14.0min finished\n"
     ]
    }
   ],
   "source": [
    "model = KerasClassifier(build_fn=create_model, epochs=150, batch_size=28, verbose=0)\n",
    "\n",
    "# define the grid search parameters\n",
    "optimizer = ['SGD', 'RMSprop', 'Adagrad', 'Adadelta', 'Adam', 'Nadam']\n",
    "param_grid = dict(opt=optimizer)\n",
    "\n",
    "# search the grid\n",
    "grid = GridSearchCV(estimator=model, param_grid=param_grid, verbose=2)\n",
    "grid_result = grid.fit(x_train, y_train)"
   ]
  },
  {
   "cell_type": "code",
   "execution_count": 28,
   "metadata": {},
   "outputs": [
    {
     "name": "stdout",
     "output_type": "stream",
     "text": [
      "Best: 0.915313 using {'opt': 'Adam'}\n",
      "0.698237 (0.005249) with: {'opt': 'SGD'}\n",
      "0.912893 (0.009437) with: {'opt': 'RMSprop'}\n",
      "0.877636 (0.004725) with: {'opt': 'Adagrad'}\n",
      "0.909782 (0.010767) with: {'opt': 'Adadelta'}\n",
      "0.915313 (0.007063) with: {'opt': 'Adam'}\n",
      "0.911511 (0.010960) with: {'opt': 'Nadam'}\n"
     ]
    }
   ],
   "source": [
    "# Consolidate the outcome\n",
    "print(\"Best: %f using %s\" % (grid_result.best_score_, grid_result.best_params_))\n",
    "means = grid_result.cv_results_['mean_test_score']\n",
    "stds = grid_result.cv_results_['std_test_score']\n",
    "params = grid_result.cv_results_['params']\n",
    "for mean, stdev, param in zip(means, stds, params):\n",
    "    print(\"%f (%f) with: %r\" % (mean, stdev, param))"
   ]
  },
  {
   "cell_type": "code",
   "execution_count": 29,
   "metadata": {},
   "outputs": [
    {
     "name": "stdout",
     "output_type": "stream",
     "text": [
      "Fitting 3 folds for each of 5 candidates, totalling 15 fits\n",
      "[CV] lyrs=[38, 4] ....................................................\n"
     ]
    },
    {
     "name": "stderr",
     "output_type": "stream",
     "text": [
      "[Parallel(n_jobs=1)]: Using backend SequentialBackend with 1 concurrent workers.\n"
     ]
    },
    {
     "name": "stdout",
     "output_type": "stream",
     "text": [
      "[CV] ..................................... lyrs=[38, 4], total=  55.4s\n",
      "[CV] lyrs=[38, 4] ....................................................\n"
     ]
    },
    {
     "name": "stderr",
     "output_type": "stream",
     "text": [
      "[Parallel(n_jobs=1)]: Done   1 out of   1 | elapsed:   55.3s remaining:    0.0s\n"
     ]
    },
    {
     "name": "stdout",
     "output_type": "stream",
     "text": [
      "[CV] ..................................... lyrs=[38, 4], total= 1.2min\n",
      "[CV] lyrs=[38, 4] ....................................................\n",
      "[CV] ..................................... lyrs=[38, 4], total= 1.3min\n",
      "[CV] lyrs=[17] .......................................................\n",
      "[CV] ........................................ lyrs=[17], total= 1.2min\n",
      "[CV] lyrs=[17] .......................................................\n",
      "[CV] ........................................ lyrs=[17], total= 1.3min\n",
      "[CV] lyrs=[17] .......................................................\n",
      "[CV] ........................................ lyrs=[17], total= 1.1min\n",
      "[CV] lyrs=[17, 8] ....................................................\n",
      "[CV] ..................................... lyrs=[17, 8], total= 1.7min\n",
      "[CV] lyrs=[17, 8] ....................................................\n",
      "[CV] ..................................... lyrs=[17, 8], total= 1.7min\n",
      "[CV] lyrs=[17, 8] ....................................................\n",
      "[CV] ..................................... lyrs=[17, 8], total= 1.7min\n",
      "[CV] lyrs=[17, 4] ....................................................\n",
      "[CV] ..................................... lyrs=[17, 4], total= 1.6min\n",
      "[CV] lyrs=[17, 4] ....................................................\n",
      "[CV] ..................................... lyrs=[17, 4], total= 1.1min\n",
      "[CV] lyrs=[17, 4] ....................................................\n",
      "[CV] ..................................... lyrs=[17, 4], total= 1.2min\n",
      "[CV] lyrs=[17, 8, 4] .................................................\n",
      "[CV] .................................. lyrs=[17, 8, 4], total= 1.7min\n",
      "[CV] lyrs=[17, 8, 4] .................................................\n",
      "[CV] .................................. lyrs=[17, 8, 4], total= 1.5min\n",
      "[CV] lyrs=[17, 8, 4] .................................................\n",
      "[CV] .................................. lyrs=[17, 8, 4], total= 1.5min\n"
     ]
    },
    {
     "name": "stderr",
     "output_type": "stream",
     "text": [
      "[Parallel(n_jobs=1)]: Done  15 out of  15 | elapsed: 20.8min finished\n"
     ]
    }
   ],
   "source": [
    "seed(42)\n",
    "set_random_seed(42)\n",
    "\n",
    "# create model for finding the best possible hidden neurons \n",
    "model = KerasClassifier(build_fn=create_model, \n",
    "                        epochs=150, batch_size=28, verbose=0)\n",
    "\n",
    "# define the grid search parameters \n",
    "layers = [[38,4],[17],[17,8],[17,4],[17,8,4]] # 38 and 17 hidden neuron units. 4 and 8 hidden layers\n",
    "param_grid = dict(lyrs=layers)\n",
    "\n",
    "# search the grid\n",
    "grid = GridSearchCV(estimator=model, param_grid=param_grid, verbose=2)\n",
    "grid_result = grid.fit(x_train, y_train)"
   ]
  },
  {
   "cell_type": "code",
   "execution_count": 31,
   "metadata": {},
   "outputs": [
    {
     "name": "stdout",
     "output_type": "stream",
     "text": [
      "Best: 0.946422 using {'lyrs': [38, 4]}\n",
      "0.946422 (0.004340) with: {'lyrs': [38, 4]}\n",
      "0.731766 (0.308036) with: {'lyrs': [17]}\n",
      "0.861390 (0.113305) with: {'lyrs': [17, 8]}\n",
      "0.941583 (0.001755) with: {'lyrs': [17, 4]}\n",
      "0.548566 (0.150850) with: {'lyrs': [17, 8, 4]}\n"
     ]
    }
   ],
   "source": [
    "#summarize model results \n",
    "print(\"Best: %f using %s\" % (grid_result.best_score_, grid_result.best_params_))\n",
    "means = grid_result.cv_results_['mean_test_score']\n",
    "stds = grid_result.cv_results_['std_test_score']\n",
    "params = grid_result.cv_results_['params']\n",
    "for mean, stdev, param in zip(means, stds, params):\n",
    "    print(\"%f (%f) with: %r\" % (mean, stdev, param))"
   ]
  },
  {
   "cell_type": "markdown",
   "metadata": {},
   "source": [
    "Define a model for finding dropout: A dropout layer randomly drops some of the connections between layers. "
   ]
  },
  {
   "cell_type": "code",
   "execution_count": 32,
   "metadata": {},
   "outputs": [
    {
     "name": "stdout",
     "output_type": "stream",
     "text": [
      "Fitting 3 folds for each of 6 candidates, totalling 18 fits\n",
      "[CV] dr=0.0 ..........................................................\n"
     ]
    },
    {
     "name": "stderr",
     "output_type": "stream",
     "text": [
      "[Parallel(n_jobs=1)]: Using backend SequentialBackend with 1 concurrent workers.\n"
     ]
    },
    {
     "name": "stdout",
     "output_type": "stream",
     "text": [
      "[CV] ........................................... dr=0.0, total=  59.9s\n",
      "[CV] dr=0.0 ..........................................................\n"
     ]
    },
    {
     "name": "stderr",
     "output_type": "stream",
     "text": [
      "[Parallel(n_jobs=1)]: Done   1 out of   1 | elapsed:   59.8s remaining:    0.0s\n"
     ]
    },
    {
     "name": "stdout",
     "output_type": "stream",
     "text": [
      "[CV] ........................................... dr=0.0, total= 1.4min\n",
      "[CV] dr=0.0 ..........................................................\n",
      "[CV] ........................................... dr=0.0, total=  55.9s\n",
      "[CV] dr=0.01 .........................................................\n",
      "WARNING:tensorflow:From C:\\Users\\Prerna\\Anaconda3\\lib\\site-packages\\keras\\backend\\tensorflow_backend.py:3733: calling dropout (from tensorflow.python.ops.nn_ops) with keep_prob is deprecated and will be removed in a future version.\n",
      "Instructions for updating:\n",
      "Please use `rate` instead of `keep_prob`. Rate should be set to `rate = 1 - keep_prob`.\n",
      "[CV] .......................................... dr=0.01, total=  58.4s\n",
      "[CV] dr=0.01 .........................................................\n",
      "[CV] .......................................... dr=0.01, total=  59.7s\n",
      "[CV] dr=0.01 .........................................................\n",
      "[CV] .......................................... dr=0.01, total= 1.0min\n",
      "[CV] dr=0.05 .........................................................\n",
      "[CV] .......................................... dr=0.05, total= 1.0min\n",
      "[CV] dr=0.05 .........................................................\n",
      "[CV] .......................................... dr=0.05, total= 2.0min\n",
      "[CV] dr=0.05 .........................................................\n",
      "[CV] .......................................... dr=0.05, total= 1.9min\n",
      "[CV] dr=0.1 ..........................................................\n",
      "[CV] ........................................... dr=0.1, total= 1.9min\n",
      "[CV] dr=0.1 ..........................................................\n",
      "[CV] ........................................... dr=0.1, total= 1.8min\n",
      "[CV] dr=0.1 ..........................................................\n",
      "[CV] ........................................... dr=0.1, total= 1.9min\n",
      "[CV] dr=0.2 ..........................................................\n",
      "[CV] ........................................... dr=0.2, total= 1.9min\n",
      "[CV] dr=0.2 ..........................................................\n",
      "[CV] ........................................... dr=0.2, total= 2.0min\n",
      "[CV] dr=0.2 ..........................................................\n",
      "[CV] ........................................... dr=0.2, total= 1.4min\n",
      "[CV] dr=0.5 ..........................................................\n",
      "[CV] ........................................... dr=0.5, total= 1.1min\n",
      "[CV] dr=0.5 ..........................................................\n",
      "[CV] ........................................... dr=0.5, total= 1.1min\n",
      "[CV] dr=0.5 ..........................................................\n",
      "[CV] ........................................... dr=0.5, total= 1.7min\n"
     ]
    },
    {
     "name": "stderr",
     "output_type": "stream",
     "text": [
      "[Parallel(n_jobs=1)]: Done  18 out of  18 | elapsed: 26.0min finished\n"
     ]
    }
   ],
   "source": [
    "# Create model for finding dropouts\n",
    "model = KerasClassifier(build_fn=create_model, \n",
    "                        epochs=150, batch_size=28, verbose=0)\n",
    "\n",
    "# define the grid search parameters\n",
    "drops = [0.0, 0.01, 0.05, 0.1, 0.2, 0.5]\n",
    "param_grid = dict(dr=drops)\n",
    "grid = GridSearchCV(estimator=model, param_grid=param_grid, verbose=2)\n",
    "grid_result = grid.fit(x_train, y_train)"
   ]
  },
  {
   "cell_type": "code",
   "execution_count": 33,
   "metadata": {},
   "outputs": [
    {
     "name": "stdout",
     "output_type": "stream",
     "text": [
      "Best: 0.940892 using {'dr': 0.01}\n",
      "0.914621 (0.006428) with: {'dr': 0.0}\n",
      "0.940892 (0.004711) with: {'dr': 0.01}\n",
      "0.938818 (0.002566) with: {'dr': 0.05}\n",
      "0.937090 (0.006382) with: {'dr': 0.1}\n",
      "0.922572 (0.006919) with: {'dr': 0.2}\n",
      "0.667819 (0.019904) with: {'dr': 0.5}\n"
     ]
    }
   ],
   "source": [
    "# Consolidate the outcome\n",
    "print(\"Best: %f using %s\" % (grid_result.best_score_, grid_result.best_params_))\n",
    "means = grid_result.cv_results_['mean_test_score']\n",
    "stds = grid_result.cv_results_['std_test_score']\n",
    "params = grid_result.cv_results_['params']\n",
    "for mean, stdev, param in zip(means, stds, params):\n",
    "    print(\"%f (%f) with: %r\" % (mean, stdev, param))"
   ]
  },
  {
   "cell_type": "code",
   "execution_count": 64,
   "metadata": {},
   "outputs": [
    {
     "name": "stdout",
     "output_type": "stream",
     "text": [
      "Model: \"sequential_113\"\n",
      "_________________________________________________________________\n",
      "Layer (type)                 Output Shape              Param #   \n",
      "=================================================================\n",
      "dense_246 (Dense)            (None, 38)                1482      \n",
      "_________________________________________________________________\n",
      "dense_247 (Dense)            (None, 4)                 156       \n",
      "_________________________________________________________________\n",
      "dropout_113 (Dropout)        (None, 4)                 0         \n",
      "_________________________________________________________________\n",
      "dense_248 (Dense)            (None, 4)                 20        \n",
      "=================================================================\n",
      "Total params: 1,658\n",
      "Trainable params: 1,658\n",
      "Non-trainable params: 0\n",
      "_________________________________________________________________\n",
      "None\n"
     ]
    }
   ],
   "source": [
    "# create final Neural Network Model for the Feature sets\n",
    "model = create_model(lyrs=[38,4])\n",
    "\n",
    "print(model.summary())"
   ]
  },
  {
   "cell_type": "code",
   "execution_count": 65,
   "metadata": {},
   "outputs": [
    {
     "name": "stdout",
     "output_type": "stream",
     "text": [
      "2893/2893 [==============================] - 1s 173us/step\n",
      "\n",
      "acc: 96.89%\n"
     ]
    }
   ],
   "source": [
    "training = model.fit(x_train, y_train, epochs=150, batch_size=28, \n",
    "                     validation_split=0.2, verbose=0)\n",
    "\n",
    "# evaluate the model\n",
    "scores = model.evaluate(x_train, y_train)\n",
    "print(\"\\n%s: %.2f%%\" % (model.metrics_names[1], scores[1]*100))"
   ]
  },
  {
   "cell_type": "code",
   "execution_count": 66,
   "metadata": {},
   "outputs": [
    {
     "data": {
      "image/png": "[encoded data removed]",
      "text/plain": [
       "<Figure size 864x504 with 1 Axes>"
      ]
     },
     "metadata": {},
     "output_type": "display_data"
    }
   ],
   "source": [
    "# summarize history for accuracy\n",
    "plt.plot(training.history['acc'])\n",
    "plt.plot(training.history['val_acc'])\n",
    "plt.title('model accuracy')\n",
    "plt.ylabel('accuracy')\n",
    "plt.xlabel('epoch')\n",
    "plt.legend(['train', 'validation'], loc='upper left')\n",
    "plt.show()"
   ]
  },
  {
   "cell_type": "code",
   "execution_count": 67,
   "metadata": {},
   "outputs": [
    {
     "name": "stdout",
     "output_type": "stream",
     "text": [
      "1126/1126 [==============================] - 0s 216us/step\n",
      "\n",
      "acc: 95.74%\n"
     ]
    }
   ],
   "source": [
    "scores = model.evaluate(x_test, y_test)\n",
    "print(\"\\n%s: %.2f%%\" % (model.metrics_names[1], scores[1]*100))"
   ]
  },
  {
   "cell_type": "code",
   "execution_count": 68,
   "metadata": {},
   "outputs": [
    {
     "name": "stdout",
     "output_type": "stream",
     "text": [
      "Saved model to disk\n"
     ]
    }
   ],
   "source": [
    "# serialize weights to HDF5\n",
    "# save the final model for future prediction\n",
    "model.save(\"model.h5\")\n",
    "print(\"Saved model to disk\")"
   ]
  },
  {
   "cell_type": "code",
   "execution_count": null,
   "metadata": {},
   "outputs": [],
   "source": []
  },
  {
   "cell_type": "code",
   "execution_count": null,
   "metadata": {},
   "outputs": [],
   "source": []
  }
 ],
 "metadata": {
  "kernelspec": {
   "display_name": "Python 3",
   "language": "python",
   "name": "python3"
  },
  "language_info": {
   "codemirror_mode": {
    "name": "ipython",
    "version": 3
   },
   "file_extension": ".py",
   "mimetype": "text/x-python",
   "name": "python",
   "nbconvert_exporter": "python",
   "pygments_lexer": "ipython3",
   "version": "3.7.3"
  }
 },
 "nbformat": 4,
 "nbformat_minor": 2
}
